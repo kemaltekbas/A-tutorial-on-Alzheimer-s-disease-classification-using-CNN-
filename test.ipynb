{
 "cells": [
  {
   "cell_type": "code",
   "execution_count": 20,
   "id": "2401ccf4",
   "metadata": {
    "scrolled": true
   },
   "outputs": [
    {
     "name": "stdout",
     "output_type": "stream",
     "text": [
      "(1, 176, 208, 3)\n",
      "1/1 [==============================] - 0s 286ms/step\n",
      "Tahmin edilen sınıf: NonDemented\n"
     ]
    }
   ],
   "source": [
    "from pathlib import Path\n",
    "from PIL import Image\n",
    "import numpy as np\n",
    "import tensorflow as tf\n",
    "from tensorflow.keras.preprocessing.image import load_img, img_to_array\n",
    "from tensorflow.keras.models import load_model\n",
    "\n",
    "# Modelinizi yükleyin\n",
    "model = load_model('model.keras')\n",
    "\n",
    "# Sınıf etiketlerini tanımlayın (sırasıyla modelinizin sınıflarına göre)\n",
    "train_labels = [\"MildDemented\", \"ModerateDemented\",\"NonDemented\", \"VeryMildDemented\" ]\n",
    "\n",
    "# Image path\n",
    "path = Path('Alzheimer_s Dataset/test/NonDemented/26 (62).jpg')\n",
    "img = load_img(path, target_size=(176, 208))\n",
    "image_array = img_to_array(img)\n",
    "image_array = image_array.reshape((1,) + image_array.shape) / 255.0  # Resmi normalize edin ve boyutu yeniden şekillendirin\n",
    "print(image_array.shape)\n",
    "predictions = model.predict(image_array)\n",
    "\n",
    "predicted_index = np.argmax(predictions)  # Tahmin edilen sınıfın endeksini alın\n",
    "predicted_label = train_labels[predicted_index]  # Endeksi kullanarak tahmin edilen sınıfı alın\n",
    "\n",
    "print(\"Tahmin edilen sınıf:\", predicted_label)\n"
   ]
  },
  {
   "cell_type": "code",
   "execution_count": null,
   "id": "d16c54dd",
   "metadata": {},
   "outputs": [],
   "source": []
  }
 ],
 "metadata": {
  "kernelspec": {
   "display_name": "Python 3 (ipykernel)",
   "language": "python",
   "name": "python3"
  },
  "language_info": {
   "codemirror_mode": {
    "name": "ipython",
    "version": 3
   },
   "file_extension": ".py",
   "mimetype": "text/x-python",
   "name": "python",
   "nbconvert_exporter": "python",
   "pygments_lexer": "ipython3",
   "version": "3.10.11"
  }
 },
 "nbformat": 4,
 "nbformat_minor": 5
}
